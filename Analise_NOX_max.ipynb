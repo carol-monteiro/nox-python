{
  "nbformat": 4,
  "nbformat_minor": 0,
  "metadata": {
    "colab": {
      "name": "Analise NOX max",
      "provenance": [],
      "authorship_tag": "ABX9TyPA4bYQz9Ob0UZo+GPae0Xv",
      "include_colab_link": true
    },
    "kernelspec": {
      "name": "python3",
      "display_name": "Python 3"
    },
    "language_info": {
      "name": "python"
    }
  },
  "cells": [
    {
      "cell_type": "markdown",
      "metadata": {
        "id": "view-in-github",
        "colab_type": "text"
      },
      "source": [
        "<a href=\"https://colab.research.google.com/github/carol-monteiro/nox-python/blob/main/Analise_NOX_max.ipynb\" target=\"_parent\"><img src=\"https://colab.research.google.com/assets/colab-badge.svg\" alt=\"Open In Colab\"/></a>"
      ]
    },
    {
      "cell_type": "code",
      "metadata": {
        "colab": {
          "base_uri": "https://localhost:8080/"
        },
        "id": "1_coT9FxeVGK",
        "outputId": "e58e7725-4f2d-4d54-9777-c7809d2d7cc2"
      },
      "source": [
        "!pip install metpy\n",
        "!pip install cartopy\n",
        "!pip install geopandas"
      ],
      "execution_count": null,
      "outputs": [
        {
          "output_type": "stream",
          "name": "stdout",
          "text": [
            "Collecting metpy\n",
            "  Downloading MetPy-1.1.0-py3-none-any.whl (361 kB)\n",
            "\u001b[?25l\r\u001b[K     |█                               | 10 kB 22.3 MB/s eta 0:00:01\r\u001b[K     |█▉                              | 20 kB 10.1 MB/s eta 0:00:01\r\u001b[K     |██▊                             | 30 kB 8.5 MB/s eta 0:00:01\r\u001b[K     |███▋                            | 40 kB 7.9 MB/s eta 0:00:01\r\u001b[K     |████▌                           | 51 kB 4.3 MB/s eta 0:00:01\r\u001b[K     |█████▍                          | 61 kB 4.5 MB/s eta 0:00:01\r\u001b[K     |██████▍                         | 71 kB 4.5 MB/s eta 0:00:01\r\u001b[K     |███████▎                        | 81 kB 5.1 MB/s eta 0:00:01\r\u001b[K     |████████▏                       | 92 kB 5.3 MB/s eta 0:00:01\r\u001b[K     |█████████                       | 102 kB 4.2 MB/s eta 0:00:01\r\u001b[K     |██████████                      | 112 kB 4.2 MB/s eta 0:00:01\r\u001b[K     |██████████▉                     | 122 kB 4.2 MB/s eta 0:00:01\r\u001b[K     |███████████▊                    | 133 kB 4.2 MB/s eta 0:00:01\r\u001b[K     |████████████▊                   | 143 kB 4.2 MB/s eta 0:00:01\r\u001b[K     |█████████████▋                  | 153 kB 4.2 MB/s eta 0:00:01\r\u001b[K     |██████████████▌                 | 163 kB 4.2 MB/s eta 0:00:01\r\u001b[K     |███████████████▍                | 174 kB 4.2 MB/s eta 0:00:01\r\u001b[K     |████████████████▎               | 184 kB 4.2 MB/s eta 0:00:01\r\u001b[K     |█████████████████▏              | 194 kB 4.2 MB/s eta 0:00:01\r\u001b[K     |██████████████████▏             | 204 kB 4.2 MB/s eta 0:00:01\r\u001b[K     |███████████████████             | 215 kB 4.2 MB/s eta 0:00:01\r\u001b[K     |████████████████████            | 225 kB 4.2 MB/s eta 0:00:01\r\u001b[K     |████████████████████▉           | 235 kB 4.2 MB/s eta 0:00:01\r\u001b[K     |█████████████████████▊          | 245 kB 4.2 MB/s eta 0:00:01\r\u001b[K     |██████████████████████▋         | 256 kB 4.2 MB/s eta 0:00:01\r\u001b[K     |███████████████████████▌        | 266 kB 4.2 MB/s eta 0:00:01\r\u001b[K     |████████████████████████▌       | 276 kB 4.2 MB/s eta 0:00:01\r\u001b[K     |█████████████████████████▍      | 286 kB 4.2 MB/s eta 0:00:01\r\u001b[K     |██████████████████████████▎     | 296 kB 4.2 MB/s eta 0:00:01\r\u001b[K     |███████████████████████████▏    | 307 kB 4.2 MB/s eta 0:00:01\r\u001b[K     |████████████████████████████    | 317 kB 4.2 MB/s eta 0:00:01\r\u001b[K     |█████████████████████████████   | 327 kB 4.2 MB/s eta 0:00:01\r\u001b[K     |█████████████████████████████▉  | 337 kB 4.2 MB/s eta 0:00:01\r\u001b[K     |██████████████████████████████▉ | 348 kB 4.2 MB/s eta 0:00:01\r\u001b[K     |███████████████████████████████▊| 358 kB 4.2 MB/s eta 0:00:01\r\u001b[K     |████████████████████████████████| 361 kB 4.2 MB/s \n",
            "\u001b[?25hRequirement already satisfied: traitlets>=4.3.0 in /usr/local/lib/python3.7/dist-packages (from metpy) (5.1.1)\n",
            "Collecting pint>=0.10.1\n",
            "  Downloading Pint-0.18-py2.py3-none-any.whl (209 kB)\n",
            "\u001b[K     |████████████████████████████████| 209 kB 49.6 MB/s \n",
            "\u001b[?25hRequirement already satisfied: pandas>=0.24.0 in /usr/local/lib/python3.7/dist-packages (from metpy) (1.1.5)\n",
            "Requirement already satisfied: importlib-resources>=1.3.0 in /usr/local/lib/python3.7/dist-packages (from metpy) (5.4.0)\n",
            "Requirement already satisfied: importlib-metadata>=1.0.0 in /usr/local/lib/python3.7/dist-packages (from metpy) (4.8.1)\n",
            "Requirement already satisfied: scipy>=1.2.0 in /usr/local/lib/python3.7/dist-packages (from metpy) (1.4.1)\n",
            "Requirement already satisfied: xarray>=0.14.1 in /usr/local/lib/python3.7/dist-packages (from metpy) (0.18.2)\n",
            "Requirement already satisfied: pooch>=0.1 in /usr/local/lib/python3.7/dist-packages (from metpy) (1.5.2)\n",
            "Collecting pyproj>=2.3.0\n",
            "  Downloading pyproj-3.2.1-cp37-cp37m-manylinux2010_x86_64.whl (6.3 MB)\n",
            "\u001b[K     |████████████████████████████████| 6.3 MB 40.9 MB/s \n",
            "\u001b[?25hRequirement already satisfied: matplotlib>=3.0.1 in /usr/local/lib/python3.7/dist-packages (from metpy) (3.2.2)\n",
            "Requirement already satisfied: numpy>=1.17.0 in /usr/local/lib/python3.7/dist-packages (from metpy) (1.19.5)\n",
            "Requirement already satisfied: typing-extensions>=3.6.4 in /usr/local/lib/python3.7/dist-packages (from importlib-metadata>=1.0.0->metpy) (3.10.0.2)\n",
            "Requirement already satisfied: zipp>=0.5 in /usr/local/lib/python3.7/dist-packages (from importlib-metadata>=1.0.0->metpy) (3.6.0)\n",
            "Requirement already satisfied: kiwisolver>=1.0.1 in /usr/local/lib/python3.7/dist-packages (from matplotlib>=3.0.1->metpy) (1.3.2)\n",
            "Requirement already satisfied: python-dateutil>=2.1 in /usr/local/lib/python3.7/dist-packages (from matplotlib>=3.0.1->metpy) (2.8.2)\n",
            "Requirement already satisfied: pyparsing!=2.0.4,!=2.1.2,!=2.1.6,>=2.0.1 in /usr/local/lib/python3.7/dist-packages (from matplotlib>=3.0.1->metpy) (2.4.7)\n",
            "Requirement already satisfied: cycler>=0.10 in /usr/local/lib/python3.7/dist-packages (from matplotlib>=3.0.1->metpy) (0.11.0)\n",
            "Requirement already satisfied: pytz>=2017.2 in /usr/local/lib/python3.7/dist-packages (from pandas>=0.24.0->metpy) (2018.9)\n",
            "Requirement already satisfied: packaging in /usr/local/lib/python3.7/dist-packages (from pint>=0.10.1->metpy) (21.2)\n",
            "Requirement already satisfied: appdirs in /usr/local/lib/python3.7/dist-packages (from pooch>=0.1->metpy) (1.4.4)\n",
            "Requirement already satisfied: requests in /usr/local/lib/python3.7/dist-packages (from pooch>=0.1->metpy) (2.23.0)\n",
            "Requirement already satisfied: certifi in /usr/local/lib/python3.7/dist-packages (from pyproj>=2.3.0->metpy) (2021.10.8)\n",
            "Requirement already satisfied: six>=1.5 in /usr/local/lib/python3.7/dist-packages (from python-dateutil>=2.1->matplotlib>=3.0.1->metpy) (1.15.0)\n",
            "Requirement already satisfied: setuptools>=40.4 in /usr/local/lib/python3.7/dist-packages (from xarray>=0.14.1->metpy) (57.4.0)\n",
            "Requirement already satisfied: chardet<4,>=3.0.2 in /usr/local/lib/python3.7/dist-packages (from requests->pooch>=0.1->metpy) (3.0.4)\n",
            "Requirement already satisfied: idna<3,>=2.5 in /usr/local/lib/python3.7/dist-packages (from requests->pooch>=0.1->metpy) (2.10)\n",
            "Requirement already satisfied: urllib3!=1.25.0,!=1.25.1,<1.26,>=1.21.1 in /usr/local/lib/python3.7/dist-packages (from requests->pooch>=0.1->metpy) (1.24.3)\n",
            "Installing collected packages: pyproj, pint, metpy\n",
            "Successfully installed metpy-1.1.0 pint-0.18 pyproj-3.2.1\n",
            "Collecting cartopy\n",
            "  Downloading Cartopy-0.20.1.tar.gz (10.8 MB)\n",
            "\u001b[K     |████████████████████████████████| 10.8 MB 4.0 MB/s \n",
            "\u001b[?25h  Installing build dependencies ... \u001b[?25l\u001b[?25hdone\n",
            "  Getting requirements to build wheel ... \u001b[?25l\u001b[?25herror\n",
            "\u001b[33mWARNING: Discarding https://files.pythonhosted.org/packages/fc/59/aa52698e3838f4cd0e7eaa75bd86837e9e0b05041dbdaee3cda2fffced06/Cartopy-0.20.1.tar.gz#sha256=91f87b130e2574547a20cd634498df97d797abd12dcfd0235bc0cdbcec8b05e3 (from https://pypi.org/simple/cartopy/) (requires-python:>=3.7). Command errored out with exit status 1: /usr/bin/python3 /usr/local/lib/python3.7/dist-packages/pip/_vendor/pep517/in_process/_in_process.py get_requires_for_build_wheel /tmp/tmp8xhpzy1q Check the logs for full command output.\u001b[0m\n",
            "  Downloading Cartopy-0.20.0.tar.gz (10.8 MB)\n",
            "\u001b[K     |████████████████████████████████| 10.8 MB 50 kB/s \n",
            "\u001b[?25h  Installing build dependencies ... \u001b[?25l\u001b[?25hdone\n",
            "  Getting requirements to build wheel ... \u001b[?25l\u001b[?25herror\n",
            "\u001b[33mWARNING: Discarding https://files.pythonhosted.org/packages/0f/c0/58453b036e79046d211f083880d58dcce787e7e07647ac25dc46c6555099/Cartopy-0.20.0.tar.gz#sha256=eae58aff26806e63cf115b2bce9477cedc4aa9f578c5e477b2c25cfa404f2b7a (from https://pypi.org/simple/cartopy/) (requires-python:>=3.7). Command errored out with exit status 1: /usr/bin/python3 /usr/local/lib/python3.7/dist-packages/pip/_vendor/pep517/in_process/_in_process.py get_requires_for_build_wheel /tmp/tmpahjq5sjn Check the logs for full command output.\u001b[0m\n",
            "  Downloading Cartopy-0.19.0.post1.tar.gz (12.1 MB)\n",
            "\u001b[K     |████████████████████████████████| 12.1 MB 162 kB/s \n",
            "\u001b[?25h  Installing build dependencies ... \u001b[?25l\u001b[?25hdone\n",
            "  Getting requirements to build wheel ... \u001b[?25l\u001b[?25hdone\n",
            "    Preparing wheel metadata ... \u001b[?25l\u001b[?25hdone\n",
            "Requirement already satisfied: numpy>=1.13.3 in /usr/local/lib/python3.7/dist-packages (from cartopy) (1.19.5)\n",
            "Requirement already satisfied: shapely>=1.5.6 in /usr/local/lib/python3.7/dist-packages (from cartopy) (1.8.0)\n",
            "Collecting pyshp>=2\n",
            "  Downloading pyshp-2.1.3.tar.gz (219 kB)\n",
            "\u001b[K     |████████████████████████████████| 219 kB 66.0 MB/s \n",
            "\u001b[?25hBuilding wheels for collected packages: cartopy, pyshp\n",
            "  Building wheel for cartopy (PEP 517) ... \u001b[?25l\u001b[?25hdone\n",
            "  Created wheel for cartopy: filename=Cartopy-0.19.0.post1-cp37-cp37m-linux_x86_64.whl size=12516252 sha256=6fa31b8e92ae5b2f026d675e77c2cacefaf550bb04aa806a4b13c3b7c3cafdd1\n",
            "  Stored in directory: /root/.cache/pip/wheels/98/01/f7/bd10aeb96fe4b518cde5f7c4f5e12c7202f85b7353a5017847\n",
            "  Building wheel for pyshp (setup.py) ... \u001b[?25l\u001b[?25hdone\n",
            "  Created wheel for pyshp: filename=pyshp-2.1.3-py3-none-any.whl size=37325 sha256=3a4e11c876fd1f5377094b1bf25923e6dd23ed1b81d140f33004cb71b46d99b3\n",
            "  Stored in directory: /root/.cache/pip/wheels/43/f8/87/53c8cd41545ba20e536ea29a8fcb5431b5f477ca50d5dffbbe\n",
            "Successfully built cartopy pyshp\n",
            "Installing collected packages: pyshp, cartopy\n",
            "Successfully installed cartopy-0.19.0.post1 pyshp-2.1.3\n",
            "Collecting geopandas\n",
            "  Downloading geopandas-0.10.2-py2.py3-none-any.whl (1.0 MB)\n",
            "\u001b[K     |████████████████████████████████| 1.0 MB 4.3 MB/s \n",
            "\u001b[?25hRequirement already satisfied: pandas>=0.25.0 in /usr/local/lib/python3.7/dist-packages (from geopandas) (1.1.5)\n",
            "Requirement already satisfied: shapely>=1.6 in /usr/local/lib/python3.7/dist-packages (from geopandas) (1.8.0)\n",
            "Collecting fiona>=1.8\n",
            "  Downloading Fiona-1.8.20-cp37-cp37m-manylinux1_x86_64.whl (15.4 MB)\n",
            "\u001b[K     |████████████████████████████████| 15.4 MB 39 kB/s \n",
            "\u001b[?25hRequirement already satisfied: pyproj>=2.2.0 in /usr/local/lib/python3.7/dist-packages (from geopandas) (3.2.1)\n",
            "Requirement already satisfied: six>=1.7 in /usr/local/lib/python3.7/dist-packages (from fiona>=1.8->geopandas) (1.15.0)\n",
            "Collecting click-plugins>=1.0\n",
            "  Downloading click_plugins-1.1.1-py2.py3-none-any.whl (7.5 kB)\n",
            "Requirement already satisfied: certifi in /usr/local/lib/python3.7/dist-packages (from fiona>=1.8->geopandas) (2021.10.8)\n",
            "Collecting cligj>=0.5\n",
            "  Downloading cligj-0.7.2-py3-none-any.whl (7.1 kB)\n",
            "Requirement already satisfied: setuptools in /usr/local/lib/python3.7/dist-packages (from fiona>=1.8->geopandas) (57.4.0)\n",
            "Requirement already satisfied: click>=4.0 in /usr/local/lib/python3.7/dist-packages (from fiona>=1.8->geopandas) (7.1.2)\n",
            "Collecting munch\n",
            "  Downloading munch-2.5.0-py2.py3-none-any.whl (10 kB)\n",
            "Requirement already satisfied: attrs>=17 in /usr/local/lib/python3.7/dist-packages (from fiona>=1.8->geopandas) (21.2.0)\n",
            "Requirement already satisfied: numpy>=1.15.4 in /usr/local/lib/python3.7/dist-packages (from pandas>=0.25.0->geopandas) (1.19.5)\n",
            "Requirement already satisfied: pytz>=2017.2 in /usr/local/lib/python3.7/dist-packages (from pandas>=0.25.0->geopandas) (2018.9)\n",
            "Requirement already satisfied: python-dateutil>=2.7.3 in /usr/local/lib/python3.7/dist-packages (from pandas>=0.25.0->geopandas) (2.8.2)\n",
            "Installing collected packages: munch, cligj, click-plugins, fiona, geopandas\n",
            "Successfully installed click-plugins-1.1.1 cligj-0.7.2 fiona-1.8.20 geopandas-0.10.2 munch-2.5.0\n"
          ]
        }
      ]
    },
    {
      "cell_type": "code",
      "metadata": {
        "id": "ZUFqKyayeaqf"
      },
      "source": [
        "#Bibliotecas necessárias\n",
        "from netCDF4 import Dataset\n",
        "import pandas as pd\n",
        "import cartopy.crs as ccrs\n",
        "import cartopy.feature as cfeature\n",
        "import matplotlib.gridspec as gridspec\n",
        "import matplotlib.pyplot as plt\n",
        "import metpy.calc as mpcalc\n",
        "import numpy as np\n",
        "import xarray as xr\n",
        "from datetime import datetime\n",
        "import matplotlib\n",
        "import geopandas\n",
        "import geopandas as gpd\n",
        "\n",
        "import matplotlib.pyplot as plt\n",
        "import xarray as xr\n",
        "import metpy\n",
        "from metpy.cbook import get_test_data\n",
        "from metpy.plots import ContourPlot, ImagePlot, MapPanel, PanelContainer\n",
        "from metpy.units import units\n",
        "\n",
        "import datetime\n",
        "import glob\n",
        "\n",
        "import matplotlib.pyplot as plt\n",
        "import numpy as np\n",
        "import pandas as pd\n",
        "import math"
      ],
      "execution_count": null,
      "outputs": []
    },
    {
      "cell_type": "code",
      "metadata": {
        "colab": {
          "base_uri": "https://localhost:8080/"
        },
        "id": "SRdWetXNebL0",
        "outputId": "2138ac90-0386-4f30-e67f-623bea9b5891"
      },
      "source": [
        "#montar o drive no colab\n",
        "from google.colab import drive\n",
        "drive.mount('/content/drive')"
      ],
      "execution_count": null,
      "outputs": [
        {
          "output_type": "stream",
          "name": "stdout",
          "text": [
            "Mounted at /content/drive\n"
          ]
        }
      ]
    },
    {
      "cell_type": "code",
      "metadata": {
        "id": "4IpLIGhJeh2s"
      },
      "source": [
        "\n",
        "####definições de datas\n",
        "dia = 16\n",
        "mes = 6\n",
        "ano = 2014\n",
        "\n",
        "hrinicio = 17\n",
        "hrfinal = 20"
      ],
      "execution_count": null,
      "outputs": []
    },
    {
      "cell_type": "code",
      "metadata": {
        "id": "D2KtNBtjenmw",
        "colab": {
          "base_uri": "https://localhost:8080/"
        },
        "outputId": "e2c57a84-9dbf-4619-a4e3-bcce44e34afd"
      },
      "source": [
        "initial_date = datetime.date(ano, mes, dia)\n",
        "\n",
        "filename_search = f\"\"\"maoaosnoxS1.a1.{initial_date.strftime(\"%Y%m%d\")}.*\"\"\"\n",
        "\n",
        "file = glob.glob(f\"/content/drive/MyDrive/MS - Carolina Monteiro/DADOS/maoaosnox/{filename_search}\")\n",
        "\n",
        "dadonox = Dataset(file[0])\n",
        "dadonox.variables['time']\n",
        "concnox1 = dadonox.variables['nox']\n",
        "concnox = concnox1\n",
        "segnox = dadonox.variables['time']\n",
        "minnox = dadonox.variables['time'][:]/60\n",
        "horanox = minnox/60\n",
        "\n",
        "max_value = max(concnox)\n",
        "print('Maximum value dia:', max_value)\n",
        "\n",
        "max_value = 0\n",
        "\n",
        "for i in range(len(concnox)):\n",
        "    if horanox[i] > hrinicio and horanox[i] < hrfinal:\n",
        "        if concnox[i] > max_value:\n",
        "            max_value = concnox[i]\n",
        "\n",
        "\n",
        "print('Maximum value evento:', max_value)\n",
        "\n",
        "print('Log10 valor:', math.log10(max_value))\n"
      ],
      "execution_count": null,
      "outputs": [
        {
          "output_type": "stream",
          "name": "stdout",
          "text": [
            "Maximum value dia: 110.1085\n",
            "Maximum value evento: 5.002106\n",
            "Log10 valor: 0.6991529071312474\n"
          ]
        }
      ]
    },
    {
      "cell_type": "code",
      "metadata": {
        "id": "Wnv1fy6o2Z3_"
      },
      "source": [
        ""
      ],
      "execution_count": null,
      "outputs": []
    }
  ]
}